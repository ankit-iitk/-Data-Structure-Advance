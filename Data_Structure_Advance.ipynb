{
  "nbformat": 4,
  "nbformat_minor": 0,
  "metadata": {
    "colab": {
      "provenance": []
    },
    "kernelspec": {
      "name": "python3",
      "display_name": "Python 3"
    },
    "language_info": {
      "name": "python"
    }
  },
  "cells": [
    {
      "cell_type": "code",
      "execution_count": null,
      "metadata": {
        "colab": {
          "base_uri": "https://localhost:8080/"
        },
        "collapsed": true,
        "id": "gwTd7IYriGVN",
        "outputId": "db533a04-194d-441a-8db0-fb6e67a8aa08"
      },
      "outputs": [
        {
          "output_type": "stream",
          "name": "stdout",
          "text": [
            "Enter your string : ankit\n",
            "Your reversed string is  tikna\n"
          ]
        }
      ],
      "source": [
        "# Q.1 Write a code to reverse a string.\n",
        "\n",
        "str = input(\"Enter your string : \")\n",
        "print(\"Your reversed string is \",str[::-1])"
      ]
    },
    {
      "cell_type": "code",
      "source": [
        "# Q.2 Write a code to count the number of vowels in a string.\n",
        "\n",
        "str = input(\"Enter your string : \")\n",
        "count = 0\n",
        "for i in str:\n",
        "  if i ==\"a\" or i == \"e\" or i==\"i\" or i==\"o\" or i==\"u\":\n",
        "    count = count + 1\n",
        "print(\"Number of vowels in a string is\",count)\n"
      ],
      "metadata": {
        "colab": {
          "base_uri": "https://localhost:8080/"
        },
        "collapsed": true,
        "id": "qbW3Sjc5ijzh",
        "outputId": "9531f98e-bb13-47e0-f880-460295024b1f"
      },
      "execution_count": null,
      "outputs": [
        {
          "output_type": "stream",
          "name": "stdout",
          "text": [
            "Enter your string : geet\n",
            "Number of vowels in a string is 2\n"
          ]
        }
      ]
    },
    {
      "cell_type": "code",
      "source": [
        "# Q.3 Write a code to check if a given string is a palindrome or not?\n",
        "\n",
        "str = input(\"Enter your string :\")\n",
        "if str == str[::-1]:\n",
        "    print(\"Given string is palindrome\")\n",
        "else:\n",
        "    print(\"Given string is not a palindrome\")\n",
        "\n"
      ],
      "metadata": {
        "colab": {
          "base_uri": "https://localhost:8080/"
        },
        "collapsed": true,
        "id": "IZNpBgSxj2vd",
        "outputId": "fadc5d20-624f-478d-8741-4f78b0f3ff75"
      },
      "execution_count": null,
      "outputs": [
        {
          "output_type": "stream",
          "name": "stdout",
          "text": [
            "Enter your string :naman\n",
            "Given string is palindrome\n"
          ]
        }
      ]
    },
    {
      "cell_type": "code",
      "source": [
        "# Q.4 Write a code to check if two given strings are anagrams of each other.\n",
        "\n",
        "str1 = input(\"enter first string :\")\n",
        "str2 = input(\"enter second string : \")\n",
        "if sorted(str1) == sorted(str2):\n",
        "  print(\"strings are anagrams\")\n",
        "else:\n",
        "  print(\"strings are not anagrams\")"
      ],
      "metadata": {
        "colab": {
          "base_uri": "https://localhost:8080/"
        },
        "collapsed": true,
        "id": "Kb1heeOZmK1v",
        "outputId": "85ecce40-1b29-4cc0-90d4-d666a52daa5d"
      },
      "execution_count": null,
      "outputs": [
        {
          "output_type": "stream",
          "name": "stdout",
          "text": [
            "enter first string :mug\n",
            "enter second string : umg\n",
            "strings are anagrams\n"
          ]
        }
      ]
    },
    {
      "cell_type": "code",
      "source": [
        "# Q.5 Write a code to find all occurrences of a given substring within another string.\n",
        "\n",
        "str = input(\"Enter string : \")\n",
        "substr = input(\"Enter substring : \")\n",
        "if substr in str:\n",
        "  print(\"subtring is present in string\")\n",
        "else:\n",
        "  print(\"subtring is not present in string\")\n"
      ],
      "metadata": {
        "colab": {
          "base_uri": "https://localhost:8080/"
        },
        "collapsed": true,
        "id": "s9RlC8nHmtSV",
        "outputId": "79216a1f-8010-49bc-c831-065e5c34346c"
      },
      "execution_count": null,
      "outputs": [
        {
          "output_type": "stream",
          "name": "stdout",
          "text": [
            "Enter string : apple\n",
            "Enter substring : pk\n",
            "subtring is not present in string\n"
          ]
        }
      ]
    },
    {
      "cell_type": "code",
      "source": [
        "# Q.6 Write a code to determine if a string has all unique characters\n",
        "\n",
        "str = input(\"Enter string : \")\n",
        "if len(str) == len(set(str)):\n",
        "  print(\"String has all unique characters\")\n",
        "else:\n",
        "   print(\"String has not unique characters\")"
      ],
      "metadata": {
        "colab": {
          "base_uri": "https://localhost:8080/"
        },
        "collapsed": true,
        "id": "syhr79ZQoBYB",
        "outputId": "3da29ec1-db87-4570-e5d6-8b2ce6441b11"
      },
      "execution_count": null,
      "outputs": [
        {
          "output_type": "stream",
          "name": "stdout",
          "text": [
            "Enter string : ankit\n",
            "String has all unique characters\n"
          ]
        }
      ]
    },
    {
      "cell_type": "code",
      "source": [
        "# Write a code to convert a given string to uppercase or lowercase.\n",
        "\n",
        "str = input(\"Enter string : \")\n",
        "print(\"Uppercase is \",str.upper())\n",
        "print(\"Lowercase is \",str.lower())\n"
      ],
      "metadata": {
        "colab": {
          "base_uri": "https://localhost:8080/"
        },
        "collapsed": true,
        "id": "LUZBxTkmqA0B",
        "outputId": "654ba5a1-b1db-47d9-fb2c-4c2e2396e303"
      },
      "execution_count": null,
      "outputs": [
        {
          "output_type": "stream",
          "name": "stdout",
          "text": [
            "Enter string : Hello\n",
            "Uppercase is  HELLO\n",
            "Lowercase is  hello\n"
          ]
        }
      ]
    },
    {
      "cell_type": "code",
      "source": [
        "# Write a code to count the number of words in a string ?\n",
        "\n",
        "def count_words(str):\n",
        "  a = str.split()\n",
        "  return len(a)\n",
        "\n",
        "count_words(\"This is a first string\")"
      ],
      "metadata": {
        "colab": {
          "base_uri": "https://localhost:8080/"
        },
        "collapsed": true,
        "id": "YjpBfggqrmuN",
        "outputId": "a5a6173e-57e8-4405-a5e3-c1a8e8e192c6"
      },
      "execution_count": null,
      "outputs": [
        {
          "output_type": "execute_result",
          "data": {
            "text/plain": [
              "5"
            ]
          },
          "metadata": {},
          "execution_count": 50
        }
      ]
    },
    {
      "cell_type": "code",
      "source": [
        "# Write a code to concatenate two strings without using the + operator.\n",
        "\n",
        "def concat_str(str1,str2):\n",
        "  return str1 + str2\n",
        "\n",
        "concat_str(\"This is \",\"a first string\")"
      ],
      "metadata": {
        "colab": {
          "base_uri": "https://localhost:8080/",
          "height": 35
        },
        "id": "zewhvARssA3b",
        "outputId": "dc6313c7-2b98-4644-88f5-5ba57d3fb11a"
      },
      "execution_count": null,
      "outputs": [
        {
          "output_type": "execute_result",
          "data": {
            "text/plain": [
              "'This is a first string'"
            ],
            "application/vnd.google.colaboratory.intrinsic+json": {
              "type": "string"
            }
          },
          "metadata": {},
          "execution_count": 51
        }
      ]
    },
    {
      "cell_type": "code",
      "source": [
        "# Write a code to remove all occurrences of a specific element from a list.\n",
        "\n",
        "def remove_element(list,element):\n",
        "  for i in list:\n",
        "    if i == element:\n",
        "      list.remove(i)\n",
        "    return list\n",
        "\n",
        "remove_element([\"Ankit\",\"Ds\",\"iit\"],\"Ankit\")"
      ],
      "metadata": {
        "colab": {
          "base_uri": "https://localhost:8080/"
        },
        "collapsed": true,
        "id": "3q1xrG9psw7n",
        "outputId": "069c5326-8953-44b3-928c-5abde42f54ae"
      },
      "execution_count": null,
      "outputs": [
        {
          "output_type": "execute_result",
          "data": {
            "text/plain": [
              "['Ds', 'iit']"
            ]
          },
          "metadata": {},
          "execution_count": 54
        }
      ]
    },
    {
      "cell_type": "code",
      "source": [
        "# Implement a code to find the second largest number in a given list of integers.\n",
        "\n",
        "a = [12,14,1,2,3,21,11,9,8,7]\n",
        "b = sorted(a)\n",
        "print(\"Second Largest number is \",b[-2])"
      ],
      "metadata": {
        "colab": {
          "base_uri": "https://localhost:8080/"
        },
        "collapsed": true,
        "id": "qEvQ8Mu0tgLN",
        "outputId": "8bec6b4e-ff0a-4f09-c1a6-374ad5ba9e8a"
      },
      "execution_count": null,
      "outputs": [
        {
          "output_type": "stream",
          "name": "stdout",
          "text": [
            "Second Largest number is  14\n"
          ]
        }
      ]
    },
    {
      "cell_type": "code",
      "source": [
        "# Write a code to reverse a list in-place without using any built-in reverse functions.\n",
        "\n",
        "def reverse(list):\n",
        "  return list[::-1]\n",
        "\n",
        "reverse([12,13,14,15,16])"
      ],
      "metadata": {
        "colab": {
          "base_uri": "https://localhost:8080/"
        },
        "id": "pgehv4Flt74C",
        "outputId": "7b18df99-33a3-45c8-8f79-0cc8bbe6d369",
        "collapsed": true
      },
      "execution_count": null,
      "outputs": [
        {
          "output_type": "execute_result",
          "data": {
            "text/plain": [
              "[16, 15, 14, 13, 12]"
            ]
          },
          "metadata": {},
          "execution_count": 58
        }
      ]
    },
    {
      "cell_type": "code",
      "source": [
        "# Implement a code to find and remove duplicates from a list while preserving the original order of elements\n",
        "\n",
        "a = [1,1,1,1,2,2,2,2,2,3,4,4,4,5,5,5,5,5]\n",
        "b = set(a)\n",
        "c = sorted(b)\n",
        "\n",
        "print(c)"
      ],
      "metadata": {
        "colab": {
          "base_uri": "https://localhost:8080/"
        },
        "collapsed": true,
        "id": "C_Ul5zGbxyVF",
        "outputId": "1d0889f1-4680-476e-90dd-30407c8d9d6d"
      },
      "execution_count": null,
      "outputs": [
        {
          "output_type": "stream",
          "name": "stdout",
          "text": [
            "[1, 2, 3, 4, 5]\n"
          ]
        }
      ]
    },
    {
      "cell_type": "code",
      "source": [
        "#  Create a code to check if a given list is sorted (either in ascending or descending order) or not.\n",
        "\n",
        "def check_sorted(list):\n",
        "  if list == sorted(list) or list == sorted(list, reverse = True):\n",
        "    return \"List is sorted\"\n",
        "  else:\n",
        "    return \"List is not sorted\"\n",
        "\n",
        "check_sorted([1,4,1,2,5,7])"
      ],
      "metadata": {
        "colab": {
          "base_uri": "https://localhost:8080/",
          "height": 35
        },
        "collapsed": true,
        "id": "Nm-GRBy6yPV5",
        "outputId": "2b372311-9ae3-472d-aa66-e085e840f602"
      },
      "execution_count": null,
      "outputs": [
        {
          "output_type": "execute_result",
          "data": {
            "text/plain": [
              "'List is not sorted'"
            ],
            "application/vnd.google.colaboratory.intrinsic+json": {
              "type": "string"
            }
          },
          "metadata": {},
          "execution_count": 67
        }
      ]
    },
    {
      "cell_type": "code",
      "source": [
        "# Write a code to merge two sorted lists into a single sorted list.\n",
        "\n",
        "def merge_list(list1,list2):\n",
        "  list3 = list1 + list2\n",
        "  return sorted(list3)\n",
        "\n",
        "merge_list([1,2,5,6,2,7,3,4],[2,1,0,0,3])"
      ],
      "metadata": {
        "colab": {
          "base_uri": "https://localhost:8080/"
        },
        "id": "GvUUU3lay8Ea",
        "outputId": "d106b756-d94a-4c77-f50b-2d7d11eb0275",
        "collapsed": true
      },
      "execution_count": null,
      "outputs": [
        {
          "output_type": "execute_result",
          "data": {
            "text/plain": [
              "[0, 0, 1, 1, 2, 2, 2, 3, 3, 4, 5, 6, 7]"
            ]
          },
          "metadata": {},
          "execution_count": 70
        }
      ]
    },
    {
      "cell_type": "code",
      "source": [
        "# Implement a code to find the intersection of two given lists.\n",
        "\n",
        "a = [1,2,3,4,5]\n",
        "b = [2,3,4,6,7,8]\n",
        "\n",
        "c = set(a) & set(b)\n",
        "print(list(c))"
      ],
      "metadata": {
        "colab": {
          "base_uri": "https://localhost:8080/"
        },
        "id": "tKQ157Tn0EwA",
        "outputId": "7f310840-cf61-416a-9374-ba9e649c2a65",
        "collapsed": true
      },
      "execution_count": null,
      "outputs": [
        {
          "output_type": "stream",
          "name": "stdout",
          "text": [
            "[2, 3, 4]\n"
          ]
        }
      ]
    },
    {
      "cell_type": "code",
      "source": [
        "# Create a code to find the union of two lists without duplicates.\n",
        "\n",
        "\n",
        "a = [1,2,3,4,5]\n",
        "b = [2,3,4,6,7,8]\n",
        "\n",
        "c = set(a) | set(b)\n",
        "print(list(c))"
      ],
      "metadata": {
        "colab": {
          "base_uri": "https://localhost:8080/"
        },
        "id": "q8G-w8gH0bmH",
        "outputId": "3c354112-3d4e-4ab0-d7a1-637013199115",
        "collapsed": true
      },
      "execution_count": null,
      "outputs": [
        {
          "output_type": "stream",
          "name": "stdout",
          "text": [
            "[1, 2, 3, 4, 5, 6, 7, 8]\n"
          ]
        }
      ]
    },
    {
      "cell_type": "code",
      "source": [
        "# Write a code to shuffle a given list randomly without using any built-in shuffle functions.\n"
      ],
      "metadata": {
        "id": "lqcWwa3S1i5y"
      },
      "execution_count": null,
      "outputs": []
    },
    {
      "cell_type": "code",
      "source": [
        "# Write a code that takes two tuples as input and returns a new tuple containing elements that are common to both input tuples.\n",
        "\n",
        "a = input(\"Enter elements of tuple 1 :\")\n",
        "b = input(\"Enter elements of tuple 2 :\")\n",
        "\n",
        "c = [float(i) for i in a.split(\",\")]\n",
        "d = [float(i) for i in b.split(\",\")]\n",
        "\n",
        "e = set(c) & set(d)\n",
        "print(tuple(e))\n"
      ],
      "metadata": {
        "colab": {
          "base_uri": "https://localhost:8080/"
        },
        "id": "CTyo9oIO15yu",
        "outputId": "70e85898-6819-4a68-f182-791844884a7f",
        "collapsed": true
      },
      "execution_count": null,
      "outputs": [
        {
          "output_type": "stream",
          "name": "stdout",
          "text": [
            "Enter elements of tuple 1 :1,2,3,4,5\n",
            "Enter elements of tuple 2 :2,3,4,6,7\n",
            "(2.0, 3.0, 4.0)\n"
          ]
        }
      ]
    },
    {
      "cell_type": "code",
      "source": [
        "#  Create a code that prompts the user to enter two sets of integers separated by commas. Then, print the intersection of these two sets\n"
      ],
      "metadata": {
        "id": "fH7lh_6j7E9y"
      },
      "execution_count": null,
      "outputs": []
    },
    {
      "cell_type": "code",
      "source": [
        "a = input(\"Enter elements of set 1 : \")\n",
        "b = input(\"Enter elements of set 2 : \")\n",
        "\n",
        "c = {float(i) for i in a.split(\",\")}\n",
        "d = {float(i) for i in b.split(\",\")}\n",
        "\n",
        "e = set(c) & set(d)\n",
        "print(e)"
      ],
      "metadata": {
        "id": "gbZAoz3c8GSx"
      },
      "execution_count": null,
      "outputs": []
    },
    {
      "cell_type": "code",
      "source": [
        "# Write a code to concatenate two tuples. The function should take two tuples as input and return a new tuple containing elements from both input tuples.\n",
        "\n",
        "def concat_tuples():\n",
        "  a = input(\"Enter elements of set 1 : \")\n",
        "  b = input(\"Enter elements of set 2 : \")\n",
        "\n",
        "  c = tuple(float(i) for i in a.split(\",\") if type(int(i)) == int or type(float(i)) == float)\n",
        "  d = tuple(float(i) for i in b.split(\",\") if type(int(i)) == int or type(float(i)) == float)\n",
        "  return c+d\n",
        "\n",
        "concat_tuples()\n",
        "\n",
        "\n"
      ],
      "metadata": {
        "colab": {
          "base_uri": "https://localhost:8080/"
        },
        "id": "tEC2Qtc09soO",
        "outputId": "5ef95ab6-5901-435a-accb-2f637b34abb1",
        "collapsed": true
      },
      "execution_count": null,
      "outputs": [
        {
          "name": "stdout",
          "output_type": "stream",
          "text": [
            "Enter elements of set 1 : 1,2,3,4,5\n",
            "Enter elements of set 2 : 6,7,8,9\n"
          ]
        },
        {
          "output_type": "execute_result",
          "data": {
            "text/plain": [
              "(1.0, 2.0, 3.0, 4.0, 5.0, 6.0, 7.0, 8.0, 9.0)"
            ]
          },
          "metadata": {},
          "execution_count": 153
        }
      ]
    },
    {
      "cell_type": "code",
      "source": [
        "# Develop a code that prompts the user to input two sets of strings. Then, print the elements that are present in the first set but not in the second set.\n",
        "\n",
        "a = input(\"Enter strings of set 1 : \")\n",
        "b = input(\"Enter strings of set 2 : \")\n",
        "\n",
        "list1 = [i for i in a.split(\",\")]\n",
        "list2 = [i for i in b.split(\",\")]\n",
        "\n",
        "set1 = set(list1)\n",
        "set2 = set(list2)\n",
        "print(set1 - set2)"
      ],
      "metadata": {
        "id": "wINiTn_6-Lsu",
        "colab": {
          "base_uri": "https://localhost:8080/"
        },
        "outputId": "f5c720e0-4555-4851-aa84-7aff2cb3aeea",
        "collapsed": true
      },
      "execution_count": null,
      "outputs": [
        {
          "output_type": "stream",
          "name": "stdout",
          "text": [
            "Enter strings of set 1 : Bob,Alice,Tom,Jerry\n",
            "Enter strings of set 2 : Bob,Alice\n",
            "{'Tom', 'Jerry'}\n"
          ]
        }
      ]
    },
    {
      "cell_type": "code",
      "source": [
        "# Create a code that takes a tuple and two integers as input. The function should return a new tuple containing elements from the original tuple within the specified range of indices\n",
        "\n",
        "def new_tuple():\n",
        "  s = input(\"Enter elements of tuple : \")\n",
        "  num1 = int(input(\"Enter first index : \"))\n",
        "  num2 = int(input(\"Enter second index : \"))\n",
        "\n",
        "  a = tuple(float(i) for i in s.split(\",\") if type(int(i)) == int or type(float(i)) == float)\n",
        "  return a[num1 : num2+1]\n",
        "\n",
        "new_tuple()\n"
      ],
      "metadata": {
        "id": "ZXXtR-WgawR9",
        "colab": {
          "base_uri": "https://localhost:8080/"
        },
        "collapsed": true,
        "outputId": "c43d2554-cfe4-4f5c-a1ce-596ae1147171"
      },
      "execution_count": null,
      "outputs": [
        {
          "name": "stdout",
          "output_type": "stream",
          "text": [
            "Enter elements of tuple : 1,2,3,4,5,6,7,8,9\n",
            "Enter first index : 2\n",
            "Enter second index : 6\n"
          ]
        },
        {
          "output_type": "execute_result",
          "data": {
            "text/plain": [
              "(3.0, 4.0, 5.0, 6.0, 7.0)"
            ]
          },
          "metadata": {},
          "execution_count": 13
        }
      ]
    },
    {
      "cell_type": "code",
      "source": [
        "# Write a code that prompts the user to input two sets of characters. Then, print the union of these two sets.\n",
        "\n",
        "s1 = input(\"Enter characters of set 1 : \")\n",
        "s2 = input(\"Enter characters of set 2 : \")\n",
        "\n",
        "l1 = [i for i in s1.split(\",\")]\n",
        "l2 = [i for i in s2.split(\",\")]\n",
        "\n",
        "final_set = set(l1) | set(l2)\n",
        "print(final_set)"
      ],
      "metadata": {
        "id": "DWNJvsNybyyT",
        "colab": {
          "base_uri": "https://localhost:8080/"
        },
        "collapsed": true,
        "outputId": "e42be61b-86be-4786-9c7e-15a74bdcf3da"
      },
      "execution_count": null,
      "outputs": [
        {
          "output_type": "stream",
          "name": "stdout",
          "text": [
            "Enter characters of set 1 : A,B,C,D\n",
            "Enter characters of set 2 : E,F,G,H\n",
            "{'G', 'B', 'E', 'C', 'F', 'H', 'D', 'A'}\n"
          ]
        }
      ]
    },
    {
      "cell_type": "code",
      "source": [
        "# Develop a code that takes a tuple of integers as input. The function should return the maximum and minimum values from the tuple using tuple unpacking.\n",
        "\n",
        "def max_min_value():\n",
        "  s = input(\"Enter elements of tuple : \")\n",
        "\n",
        "  a = tuple(float(i) for i in s.split(\",\") if type(int(i)) == int or type(float(i)) == float)\n",
        "  return max(a),min(a)\n",
        "\n",
        "\n",
        "max_min_value()\n"
      ],
      "metadata": {
        "colab": {
          "base_uri": "https://localhost:8080/"
        },
        "id": "_NzLVuvNferd",
        "outputId": "67847328-63b7-4e4a-a5d0-85b2eafe7752"
      },
      "execution_count": null,
      "outputs": [
        {
          "name": "stdout",
          "output_type": "stream",
          "text": [
            "Enter elements of tuple : 1,2,3,56,78,90,100,21\n"
          ]
        },
        {
          "output_type": "execute_result",
          "data": {
            "text/plain": [
              "(100.0, 1.0)"
            ]
          },
          "metadata": {},
          "execution_count": 27
        }
      ]
    },
    {
      "cell_type": "code",
      "source": [
        "# Create a code that defines two sets of integers. Then, print the union, intersection, and difference of these two sets.\n",
        "\n",
        "def set_ops():\n",
        "  s1 = input(\"Enter elements of set 1 : \")\n",
        "  s2 = input(\"Enter elements of set 2 : \")\n",
        "\n",
        "  set1 = {float(i) for i in s1.split(\",\") if type(float(i)) == float}\n",
        "  set2 = {float(i) for i in s2.split(\",\") if type(float(i)) == float}\n",
        "\n",
        "  print(\"Union of both sets is \",set1 | set2)\n",
        "  print(\"Intersection of both sets is \",set1 & set2)\n",
        "  print(\"Difference of both sets is \",set1 - set2)\n",
        "\n",
        "\n",
        "set_ops()"
      ],
      "metadata": {
        "colab": {
          "base_uri": "https://localhost:8080/"
        },
        "collapsed": true,
        "id": "z5HweHBTh0FJ",
        "outputId": "689b1863-3002-453b-aef5-4b8d2d48ff10"
      },
      "execution_count": null,
      "outputs": [
        {
          "output_type": "stream",
          "name": "stdout",
          "text": [
            "Enter elements of set 1 : 1,2,3,4\n",
            "Enter elements of set 2 : 2,5,3,9,10\n",
            "Union of both sets is  {1.0, 2.0, 3.0, 4.0, 5.0, 9.0, 10.0}\n",
            "Intersection of both sets is  {2.0, 3.0}\n",
            "Difference of both sets is  {1.0, 4.0}\n"
          ]
        }
      ]
    },
    {
      "cell_type": "code",
      "source": [
        "# Write a code that takes a tuple and an element as input. The function should return the count of occurrences of the given element in the tuple count.\n",
        "\n",
        "def count_number(tuple,element):\n",
        "  return tuple.count(element)\n",
        "\n",
        "count_number((1,1,1,2,2,2,3,3,4,5),2)\n"
      ],
      "metadata": {
        "colab": {
          "base_uri": "https://localhost:8080/"
        },
        "collapsed": true,
        "id": "HVAup7IajpMg",
        "outputId": "f4671551-f877-492b-96dd-9c1295dbed66"
      },
      "execution_count": null,
      "outputs": [
        {
          "output_type": "execute_result",
          "data": {
            "text/plain": [
              "3"
            ]
          },
          "metadata": {},
          "execution_count": 31
        }
      ]
    },
    {
      "cell_type": "code",
      "source": [
        "# Develop a code that prompts the user to input two sets of strings. Then, print the symmetric difference of these two sets.\n",
        "\n",
        "def symm_diff(set1,set2):\n",
        "  return set1 ^ set2\n",
        "\n",
        "symm_diff({1,2,3,5,6},{2,3,4,7,8})"
      ],
      "metadata": {
        "colab": {
          "base_uri": "https://localhost:8080/"
        },
        "collapsed": true,
        "id": "A3aXLXTNlKZ0",
        "outputId": "49ec7ecc-185b-44e8-df5d-8b50da872e79"
      },
      "execution_count": null,
      "outputs": [
        {
          "output_type": "execute_result",
          "data": {
            "text/plain": [
              "{1, 4, 5, 6, 7, 8}"
            ]
          },
          "metadata": {},
          "execution_count": 32
        }
      ]
    },
    {
      "cell_type": "code",
      "source": [
        "#  Write a code that takes a list of words as input and returns a dictionary where the keys are unique words and the values are the frequencies of those words in the input list.\n",
        "\n",
        "def word_freq(list):\n",
        "  dict = {}\n",
        "  for i in list:\n",
        "    if i in dict:\n",
        "      dict[i] += 1\n",
        "    else:\n",
        "      dict[i] = 1\n",
        "  return dict\n",
        "\n",
        "word_freq([1,1,1,2,2,3,4,5,5,5,6])"
      ],
      "metadata": {
        "colab": {
          "base_uri": "https://localhost:8080/"
        },
        "collapsed": true,
        "id": "FqbNYCqkmC29",
        "outputId": "0481c100-a757-430b-98ca-16b1cfda29ee"
      },
      "execution_count": null,
      "outputs": [
        {
          "output_type": "execute_result",
          "data": {
            "text/plain": [
              "{1: 3, 2: 2, 3: 1, 4: 1, 5: 3, 6: 1}"
            ]
          },
          "metadata": {},
          "execution_count": 37
        }
      ]
    },
    {
      "cell_type": "code",
      "source": [
        "# Write a code that takes two dictionaries as input and merges them into a single dictionary. If there are common keys, the values should be added together.\n",
        "\n",
        "def add_dict(dict1,dict2):\n",
        "  dict1.update(dict2)\n",
        "  print(dict1)\n",
        "\n",
        "add_dict({\"A\":[1,2,3],\"B\": [4,5,6]},{\"C\": [7,8,9]})"
      ],
      "metadata": {
        "colab": {
          "base_uri": "https://localhost:8080/"
        },
        "id": "w33JR0-WmW5d",
        "outputId": "fe72c1a4-9100-4d7f-f778-d8785119ffcd",
        "collapsed": true
      },
      "execution_count": null,
      "outputs": [
        {
          "output_type": "stream",
          "name": "stdout",
          "text": [
            "{'A': [1, 2, 3], 'B': [4, 5, 6], 'C': [7, 8, 9]}\n"
          ]
        }
      ]
    },
    {
      "cell_type": "code",
      "source": [
        "# & Write a code to access a value in a nested dictionary. The function should take the dictionary and a list of keys as input, and return the corresponding value. If any of the keys do not exist in the dictionary, the function should return None.\n",
        "\n"
      ],
      "metadata": {
        "id": "N2jJ9LzzmbOi"
      },
      "execution_count": null,
      "outputs": []
    },
    {
      "cell_type": "code",
      "source": [
        "# Write a code that takes a dictionary as input and returns a sorted version of it based on the values. You can choose whether to sort in ascending or descending order.\n",
        "\n",
        "def dict_sort(dict,ascending = True):\n",
        "  sort_item = sorted(dict.items(),key = lambda item : item[1],reverse = not ascending)\n",
        "  return sort_item\n",
        "\n",
        "dict_sort({\"a\":1,\"b\":3,\"c\":2})"
      ],
      "metadata": {
        "id": "gWciUbF4sLxg",
        "colab": {
          "base_uri": "https://localhost:8080/"
        },
        "collapsed": true,
        "outputId": "ef47f2d3-a122-4a32-eb00-f79aab7f77ee"
      },
      "execution_count": 21,
      "outputs": [
        {
          "output_type": "execute_result",
          "data": {
            "text/plain": [
              "[('a', 1), ('c', 2), ('b', 3)]"
            ]
          },
          "metadata": {},
          "execution_count": 21
        }
      ]
    },
    {
      "cell_type": "code",
      "source": [
        "# Write a code that inverts a dictionary, swapping keys and values. Ensure that the inverted dictionary correctly handles cases where multiple keys have the same value by storing the keys as a list in the inverted dictionary\n",
        "\n",
        "from collections import defaultdict\n",
        "\n",
        "def inverse_dic(dictionary):\n",
        "  inv_dic = defaultdict(list)\n",
        "  for key,value in dictionary.items():\n",
        "    inv_dic[value].append(key)\n",
        "  return inv_dic\n",
        "\n",
        "inverse_dic({'a':1,\"b\":2,\"c\":1})"
      ],
      "metadata": {
        "colab": {
          "base_uri": "https://localhost:8080/"
        },
        "collapsed": true,
        "id": "QR4RTgn5BESi",
        "outputId": "0677a117-ef95-492c-e068-da22803aba24"
      },
      "execution_count": 27,
      "outputs": [
        {
          "output_type": "execute_result",
          "data": {
            "text/plain": [
              "defaultdict(list, {1: ['a', 'c'], 2: ['b']})"
            ]
          },
          "metadata": {},
          "execution_count": 27
        }
      ]
    },
    {
      "cell_type": "code",
      "source": [],
      "metadata": {
        "id": "aWx73wVRDSQO"
      },
      "execution_count": 21,
      "outputs": []
    }
  ]
}